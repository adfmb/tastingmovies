{
 "cells": [
  {
   "cell_type": "markdown",
   "id": "ea74504d",
   "metadata": {},
   "source": [
    "# Model & Conclusions"
   ]
  },
  {
   "cell_type": "code",
   "execution_count": 1,
   "id": "56c0cae0",
   "metadata": {},
   "outputs": [],
   "source": [
    "import pandas as pd\n",
    "import numpy as np"
   ]
  },
  {
   "cell_type": "markdown",
   "id": "c74ef321",
   "metadata": {},
   "source": [
    "## Importing dataset"
   ]
  },
  {
   "cell_type": "code",
   "execution_count": 2,
   "id": "6956a8c6",
   "metadata": {},
   "outputs": [],
   "source": [
    "minimun_wordfreq=800\n",
    "BASE = \"ds_tastingmovies_\"+str(minimun_wordfreq)\n",
    "ds_tastingmovies = pd.read_pickle(\"data/\" + BASE + \".pkl\")\n",
    "\n",
    "X = ds_tastingmovies.drop('high_rating', axis=1)\n",
    "\n",
    "y = ds_tastingmovies['high_rating']"
   ]
  },
  {
   "cell_type": "markdown",
   "id": "636ff494",
   "metadata": {},
   "source": [
    "- Quick view"
   ]
  },
  {
   "cell_type": "code",
   "execution_count": 3,
   "id": "864711ff",
   "metadata": {},
   "outputs": [
    {
     "data": {
      "text/html": [
       "<div>\n",
       "<style scoped>\n",
       "    .dataframe tbody tr th:only-of-type {\n",
       "        vertical-align: middle;\n",
       "    }\n",
       "\n",
       "    .dataframe tbody tr th {\n",
       "        vertical-align: top;\n",
       "    }\n",
       "\n",
       "    .dataframe thead th {\n",
       "        text-align: right;\n",
       "    }\n",
       "</style>\n",
       "<table border=\"1\" class=\"dataframe\">\n",
       "  <thead>\n",
       "    <tr style=\"text-align: right;\">\n",
       "      <th></th>\n",
       "      <th>genre_(no genres listed)</th>\n",
       "      <th>genre_Action</th>\n",
       "      <th>genre_Adventure</th>\n",
       "      <th>genre_Animation</th>\n",
       "      <th>genre_Children</th>\n",
       "      <th>genre_Comedy</th>\n",
       "      <th>genre_Crime</th>\n",
       "      <th>genre_Documentary</th>\n",
       "      <th>genre_Drama</th>\n",
       "      <th>genre_Fantasy</th>\n",
       "      <th>...</th>\n",
       "      <th>Adventure_genres_avg_rtng_acum_prev</th>\n",
       "      <th>Animation_genres_avg_rtng_acum_prev</th>\n",
       "      <th>Comedy_genres_avg_rtng_acum_prev</th>\n",
       "      <th>Crime_genres_avg_rtng_acum_prev</th>\n",
       "      <th>Drama_genres_avg_rtng_acum_prev</th>\n",
       "      <th>Fantasy_genres_avg_rtng_acum_prev</th>\n",
       "      <th>Horror_genres_avg_rtng_acum_prev</th>\n",
       "      <th>Romance_genres_avg_rtng_acum_prev</th>\n",
       "      <th>Thriller_genres_avg_rtng_acum_prev</th>\n",
       "      <th>War_genres_avg_rtng_acum_prev</th>\n",
       "    </tr>\n",
       "  </thead>\n",
       "  <tbody>\n",
       "    <tr>\n",
       "      <th>0</th>\n",
       "      <td>0</td>\n",
       "      <td>0</td>\n",
       "      <td>1</td>\n",
       "      <td>1</td>\n",
       "      <td>1</td>\n",
       "      <td>1</td>\n",
       "      <td>0</td>\n",
       "      <td>0</td>\n",
       "      <td>0</td>\n",
       "      <td>1</td>\n",
       "      <td>...</td>\n",
       "      <td>5.00</td>\n",
       "      <td>5.00</td>\n",
       "      <td>5.00</td>\n",
       "      <td>4.00</td>\n",
       "      <td>4.50</td>\n",
       "      <td>5.00</td>\n",
       "      <td>3.00</td>\n",
       "      <td>5.00</td>\n",
       "      <td>4.25</td>\n",
       "      <td>NaN</td>\n",
       "    </tr>\n",
       "    <tr>\n",
       "      <th>1</th>\n",
       "      <td>0</td>\n",
       "      <td>0</td>\n",
       "      <td>1</td>\n",
       "      <td>1</td>\n",
       "      <td>1</td>\n",
       "      <td>1</td>\n",
       "      <td>0</td>\n",
       "      <td>0</td>\n",
       "      <td>0</td>\n",
       "      <td>1</td>\n",
       "      <td>...</td>\n",
       "      <td>4.18</td>\n",
       "      <td>5.00</td>\n",
       "      <td>4.50</td>\n",
       "      <td>4.29</td>\n",
       "      <td>4.62</td>\n",
       "      <td>5.00</td>\n",
       "      <td>5.00</td>\n",
       "      <td>5.00</td>\n",
       "      <td>4.09</td>\n",
       "      <td>5.0</td>\n",
       "    </tr>\n",
       "    <tr>\n",
       "      <th>2</th>\n",
       "      <td>0</td>\n",
       "      <td>0</td>\n",
       "      <td>1</td>\n",
       "      <td>1</td>\n",
       "      <td>1</td>\n",
       "      <td>1</td>\n",
       "      <td>0</td>\n",
       "      <td>0</td>\n",
       "      <td>0</td>\n",
       "      <td>1</td>\n",
       "      <td>...</td>\n",
       "      <td>5.00</td>\n",
       "      <td>5.00</td>\n",
       "      <td>5.00</td>\n",
       "      <td>5.00</td>\n",
       "      <td>5.00</td>\n",
       "      <td>5.00</td>\n",
       "      <td>NaN</td>\n",
       "      <td>NaN</td>\n",
       "      <td>5.00</td>\n",
       "      <td>NaN</td>\n",
       "    </tr>\n",
       "    <tr>\n",
       "      <th>3</th>\n",
       "      <td>0</td>\n",
       "      <td>0</td>\n",
       "      <td>1</td>\n",
       "      <td>1</td>\n",
       "      <td>1</td>\n",
       "      <td>1</td>\n",
       "      <td>0</td>\n",
       "      <td>0</td>\n",
       "      <td>0</td>\n",
       "      <td>1</td>\n",
       "      <td>...</td>\n",
       "      <td>4.40</td>\n",
       "      <td>4.33</td>\n",
       "      <td>4.21</td>\n",
       "      <td>4.13</td>\n",
       "      <td>4.35</td>\n",
       "      <td>4.33</td>\n",
       "      <td>4.00</td>\n",
       "      <td>4.50</td>\n",
       "      <td>4.17</td>\n",
       "      <td>4.0</td>\n",
       "    </tr>\n",
       "    <tr>\n",
       "      <th>4</th>\n",
       "      <td>0</td>\n",
       "      <td>0</td>\n",
       "      <td>1</td>\n",
       "      <td>1</td>\n",
       "      <td>1</td>\n",
       "      <td>1</td>\n",
       "      <td>0</td>\n",
       "      <td>0</td>\n",
       "      <td>0</td>\n",
       "      <td>1</td>\n",
       "      <td>...</td>\n",
       "      <td>2.98</td>\n",
       "      <td>3.29</td>\n",
       "      <td>3.32</td>\n",
       "      <td>3.16</td>\n",
       "      <td>3.41</td>\n",
       "      <td>3.54</td>\n",
       "      <td>2.14</td>\n",
       "      <td>3.33</td>\n",
       "      <td>2.90</td>\n",
       "      <td>3.8</td>\n",
       "    </tr>\n",
       "  </tbody>\n",
       "</table>\n",
       "<p>5 rows × 281 columns</p>\n",
       "</div>"
      ],
      "text/plain": [
       "   genre_(no genres listed)  genre_Action  genre_Adventure  genre_Animation  \\\n",
       "0                         0             0                1                1   \n",
       "1                         0             0                1                1   \n",
       "2                         0             0                1                1   \n",
       "3                         0             0                1                1   \n",
       "4                         0             0                1                1   \n",
       "\n",
       "   genre_Children  genre_Comedy  genre_Crime  genre_Documentary  genre_Drama  \\\n",
       "0               1             1            0                  0            0   \n",
       "1               1             1            0                  0            0   \n",
       "2               1             1            0                  0            0   \n",
       "3               1             1            0                  0            0   \n",
       "4               1             1            0                  0            0   \n",
       "\n",
       "   genre_Fantasy  ...  Adventure_genres_avg_rtng_acum_prev  \\\n",
       "0              1  ...                                 5.00   \n",
       "1              1  ...                                 4.18   \n",
       "2              1  ...                                 5.00   \n",
       "3              1  ...                                 4.40   \n",
       "4              1  ...                                 2.98   \n",
       "\n",
       "   Animation_genres_avg_rtng_acum_prev  Comedy_genres_avg_rtng_acum_prev  \\\n",
       "0                                 5.00                              5.00   \n",
       "1                                 5.00                              4.50   \n",
       "2                                 5.00                              5.00   \n",
       "3                                 4.33                              4.21   \n",
       "4                                 3.29                              3.32   \n",
       "\n",
       "   Crime_genres_avg_rtng_acum_prev  Drama_genres_avg_rtng_acum_prev  \\\n",
       "0                             4.00                             4.50   \n",
       "1                             4.29                             4.62   \n",
       "2                             5.00                             5.00   \n",
       "3                             4.13                             4.35   \n",
       "4                             3.16                             3.41   \n",
       "\n",
       "   Fantasy_genres_avg_rtng_acum_prev  Horror_genres_avg_rtng_acum_prev  \\\n",
       "0                               5.00                              3.00   \n",
       "1                               5.00                              5.00   \n",
       "2                               5.00                               NaN   \n",
       "3                               4.33                              4.00   \n",
       "4                               3.54                              2.14   \n",
       "\n",
       "   Romance_genres_avg_rtng_acum_prev  Thriller_genres_avg_rtng_acum_prev  \\\n",
       "0                               5.00                                4.25   \n",
       "1                               5.00                                4.09   \n",
       "2                                NaN                                5.00   \n",
       "3                               4.50                                4.17   \n",
       "4                               3.33                                2.90   \n",
       "\n",
       "   War_genres_avg_rtng_acum_prev  \n",
       "0                            NaN  \n",
       "1                            5.0  \n",
       "2                            NaN  \n",
       "3                            4.0  \n",
       "4                            3.8  \n",
       "\n",
       "[5 rows x 281 columns]"
      ]
     },
     "execution_count": 3,
     "metadata": {},
     "output_type": "execute_result"
    }
   ],
   "source": [
    "X.head()"
   ]
  },
  {
   "cell_type": "markdown",
   "id": "9d213713",
   "metadata": {},
   "source": [
    " - Importing function to split dataset in train-test samples"
   ]
  },
  {
   "cell_type": "code",
   "execution_count": 4,
   "id": "26c46f1c",
   "metadata": {},
   "outputs": [],
   "source": [
    "from sklearn.model_selection import train_test_split\n",
    "\n",
    "X_train, X_test, y_train, y_test = train_test_split(X, y, test_size = 0.3, random_state = 0)\n"
   ]
  },
  {
   "cell_type": "markdown",
   "id": "4513c120",
   "metadata": {},
   "source": [
    "Libraries for:\n",
    "\n",
    "<br>\n",
    "\n",
    "   - Hyperparameter tuning: *hyperopt* for a Bayesian Optimization\n",
    "   - Machine learning techquine: *xgboos* for XGBoosting \n",
    "   - For metrics: accuary, roc/auc and log loss from sklearn package\n",
    "   "
   ]
  },
  {
   "cell_type": "code",
   "execution_count": 5,
   "id": "8851e094",
   "metadata": {},
   "outputs": [],
   "source": [
    "import xgboost as xgb\n",
    "from sklearn.metrics import accuracy_score, roc_auc_score,log_loss\n",
    "\n",
    "from hyperopt import STATUS_OK, Trials, fmin, hp, tpe"
   ]
  },
  {
   "cell_type": "markdown",
   "id": "1ea23330",
   "metadata": {},
   "source": [
    "### The definition of the space to explore for the hyperparameter's search:"
   ]
  },
  {
   "cell_type": "code",
   "execution_count": 6,
   "id": "46a6eeb6",
   "metadata": {},
   "outputs": [],
   "source": [
    "space={'max_depth': hp.quniform(\"max_depth\", 3, 18, 1),\n",
    "        'gamma': hp.uniform ('gamma', 1,9),\n",
    "        'reg_alpha' : hp.quniform('reg_alpha', 40,180,1),\n",
    "        'reg_lambda' : hp.uniform('reg_lambda', 0,1),\n",
    "        'colsample_bytree' : hp.uniform('colsample_bytree', 0.5,1),\n",
    "        'min_child_weight' : hp.quniform('min_child_weight', 0, 10, 1),\n",
    "        'n_estimators': 180,\n",
    "        'seed': 0\n",
    "    }"
   ]
  },
  {
   "cell_type": "markdown",
   "id": "ae8b3ed3",
   "metadata": {},
   "source": [
    "### The objetive function to optimize through the hyperparameter:"
   ]
  },
  {
   "cell_type": "code",
   "execution_count": 7,
   "id": "3dbc638a",
   "metadata": {},
   "outputs": [],
   "source": [
    "def objective(space):\n",
    "    clf=xgb.XGBClassifier(\n",
    "                    n_estimators =space['n_estimators'], max_depth = int(space['max_depth']), gamma = space['gamma'],\n",
    "                    reg_alpha = int(space['reg_alpha']),min_child_weight=int(space['min_child_weight']),\n",
    "                    colsample_bytree=int(space['colsample_bytree']))\n",
    "    \n",
    "    evaluation = [( X_train, y_train), ( X_test, y_test)]\n",
    "    \n",
    "    clf.fit(X_train, y_train,\n",
    "            eval_set=evaluation, eval_metric=\"auc\",\n",
    "            early_stopping_rounds=10,verbose=False)\n",
    "    \n",
    "\n",
    "    pred = clf.predict(X_test)\n",
    "    accuracy = accuracy_score(y_test, pred>0.5)\n",
    "    print (\"SCORE:\", accuracy)\n",
    "    return {'loss': -accuracy, 'status': STATUS_OK }"
   ]
  },
  {
   "cell_type": "code",
   "execution_count": 8,
   "id": "76d3390c",
   "metadata": {
    "scrolled": false
   },
   "outputs": [
    {
     "name": "stdout",
     "output_type": "stream",
     "text": [
      "\r",
      "  0%|          | 0/100 [00:00<?, ?trial/s, best loss=?]"
     ]
    },
    {
     "name": "stderr",
     "output_type": "stream",
     "text": [
      "/Users/jalfredomb/opt/miniconda3/lib/python3.8/site-packages/xgboost/sklearn.py:888: UserWarning: The use of label encoder in XGBClassifier is deprecated and will be removed in a future release. To remove this warning, do the following: 1) Pass option use_label_encoder=False when constructing XGBClassifier object; and 2) Encode your labels (y) as integers starting with 0, i.e. 0, 1, 2, ..., [num_class - 1].\n",
      "  warnings.warn(label_encoder_deprecation_msg, UserWarning)\n",
      "\n"
     ]
    },
    {
     "name": "stdout",
     "output_type": "stream",
     "text": [
      "SCORE:                                                 \n",
      "0.6177723378212975                                     \n",
      "SCORE:                                                                            \n",
      "0.6174785801713586                                                                \n",
      "SCORE:                                                                            \n",
      "0.6176744186046511                                                                \n",
      "SCORE:                                                                            \n",
      "0.6178212974296206                                                                \n",
      "SCORE:                                                                            \n",
      "0.617625458996328                                                                 \n",
      "SCORE:                                                                            \n",
      "0.6173317013463893                                                                \n",
      "SCORE:                                                                            \n",
      "0.617625458996328                                                                 \n",
      "SCORE:                                                                            \n",
      "0.6174296205630355                                                                \n",
      "SCORE:                                                                            \n",
      "0.6633537331701347                                                                \n",
      "SCORE:                                                                            \n",
      "0.617233782129743                                                                 \n",
      "SCORE:                                                                             \n",
      "0.6173317013463893                                                                 \n",
      "SCORE:                                                                             \n",
      "0.6189473684210526                                                                 \n",
      "SCORE:                                                                             \n",
      "0.617625458996328                                                                  \n",
      "SCORE:                                                                             \n",
      "0.6215911872705019                                                                 \n",
      "SCORE:                                                                             \n",
      "0.6205140758873929                                                                 \n",
      "SCORE:                                                                             \n",
      "0.6628641370869033                                                                 \n",
      "SCORE:                                                                             \n",
      "0.6173806609547123                                                                 \n",
      "SCORE:                                                                             \n",
      "0.6196328029375765                                                                 \n",
      "SCORE:                                                                             \n",
      "0.6175275397796818                                                                 \n",
      "SCORE:                                                                             \n",
      "0.6185067319461445                                                                 \n",
      "SCORE:                                                                             \n",
      "0.6204651162790698                                                                 \n",
      "SCORE:                                                                             \n",
      "0.6215422276621787                                                                 \n",
      "SCORE:                                                                             \n",
      "0.6630110159118727                                                                 \n",
      "SCORE:                                                                             \n",
      "0.6629130966952265                                                                 \n",
      "SCORE:                                                                             \n",
      "0.6637454100367197                                                                 \n",
      "SCORE:                                                                             \n",
      "0.6643818849449205                                                                 \n",
      "SCORE:                                                                             \n",
      "0.620563035495716                                                                  \n",
      "SCORE:                                                                             \n",
      "0.6186046511627907                                                                 \n",
      "SCORE:                                                                             \n",
      "0.6189473684210526                                                                 \n",
      "SCORE:                                                                             \n",
      "0.6195348837209302                                                                 \n",
      "SCORE:                                                                             \n",
      "0.617625458996328                                                                  \n",
      "SCORE:                                                                             \n",
      "0.6184088127294982                                                                 \n",
      "SCORE:                                                                             \n",
      "0.6210036719706242                                                                 \n",
      "SCORE:                                                                             \n",
      "0.6171848225214198                                                                 \n",
      "SCORE:                                                                             \n",
      "0.6633537331701347                                                                 \n",
      "SCORE:                                                                             \n",
      "0.6174785801713586                                                                 \n",
      "SCORE:                                                                             \n",
      "0.6171358629130967                                                                 \n",
      "SCORE:                                                                             \n",
      "0.6178212974296206                                                                 \n",
      "SCORE:                                                                             \n",
      "0.6185556915544675                                                                 \n",
      "SCORE:                                                                             \n",
      "0.6636474908200735                                                                 \n",
      "SCORE:                                                                             \n",
      "0.663843329253366                                                                  \n",
      "SCORE:                                                                             \n",
      "0.6213463892288862                                                                 \n",
      "SCORE:                                                                             \n",
      "0.6174785801713586                                                                 \n",
      "SCORE:                                                                             \n",
      "0.6177723378212975                                                                 \n",
      "SCORE:                                                                             \n",
      "0.6172827417380661                                                                 \n",
      "SCORE:                                                                             \n",
      "0.6652141982864137                                                                 \n",
      "SCORE:                                                                             \n",
      "0.6203182374541004                                                                 \n",
      "SCORE:                                                                             \n",
      "0.6185067319461445                                                                 \n",
      "SCORE:                                                                             \n",
      "0.6656058751529987                                                                 \n"
     ]
    },
    {
     "name": "stdout",
     "output_type": "stream",
     "text": [
      "SCORE:                                                                             \n",
      "0.6184088127294982                                                                 \n",
      "SCORE:                                                                             \n",
      "0.6644798041615667                                                                 \n",
      "SCORE:                                                                             \n",
      "0.6630599755201958                                                                 \n",
      "SCORE:                                                                             \n",
      "0.6209547123623012                                                                 \n",
      "SCORE:                                                                             \n",
      "0.6172827417380661                                                                 \n",
      "SCORE:                                                                             \n",
      "0.6636474908200735                                                                 \n",
      "SCORE:                                                                             \n",
      "0.6639412484700122                                                                 \n",
      "SCORE:                                                                             \n",
      "0.6182619339045288                                                                 \n",
      "SCORE:                                                                             \n",
      "0.6178212974296206                                                                 \n",
      "SCORE:                                                                             \n",
      "0.6202692778457772                                                                 \n",
      "SCORE:                                                                             \n",
      "0.6203671970624235                                                                 \n",
      "SCORE:                                                                             \n",
      "0.6172827417380661                                                                 \n",
      "SCORE:                                                                             \n",
      "0.617625458996328                                                                  \n",
      "SCORE:                                                                             \n",
      "0.617625458996328                                                                  \n",
      "SCORE:                                                                             \n",
      "0.6203671970624235                                                                 \n",
      "SCORE:                                                                             \n",
      "0.6184088127294982                                                                 \n",
      "SCORE:                                                                             \n",
      "0.6654100367197062                                                                 \n",
      "SCORE:                                                                             \n",
      "0.6637454100367197                                                                 \n",
      "SCORE:                                                                             \n",
      "0.6641860465116279                                                                 \n",
      "SCORE:                                                                             \n",
      "0.664969400244798                                                                  \n",
      "SCORE:                                                                             \n",
      "0.6213953488372093                                                                 \n",
      "SCORE:                                                                             \n",
      "0.6649204406364749                                                                 \n",
      "SCORE:                                                                             \n",
      "0.6186536107711138                                                                 \n",
      "SCORE:                                                                             \n",
      "0.6205140758873929                                                                 \n",
      "SCORE:                                                                             \n",
      "0.6635495716034272                                                                 \n",
      "SCORE:                                                                             \n",
      "0.6217870257037944                                                                 \n",
      "SCORE:                                                                             \n",
      "0.6654589963280294                                                                 \n",
      "SCORE:                                                                             \n",
      "0.6184088127294982                                                                 \n",
      "SCORE:                                                                             \n",
      "0.6599265605875153                                                                 \n",
      "SCORE:                                                                             \n",
      "0.6211505507955937                                                                 \n",
      "SCORE:                                                                             \n",
      "0.617625458996328                                                                  \n",
      "SCORE:                                                                             \n",
      "0.6655079559363525                                                                 \n",
      "SCORE:                                                                             \n",
      "0.6177233782129743                                                                 \n",
      "SCORE:                                                                             \n",
      "0.6188984088127295                                                                 \n",
      "SCORE:                                                                             \n",
      "0.6211015911872705                                                                 \n",
      "SCORE:                                                                             \n",
      "0.6184577723378213                                                                 \n",
      "SCORE:                                                                             \n",
      "0.6172827417380661                                                                 \n",
      "SCORE:                                                                             \n",
      "0.61796817625459                                                                   \n",
      "SCORE:                                                                             \n",
      "0.6171848225214198                                                                 \n",
      "SCORE:                                                                             \n",
      "0.6659485924112607                                                                 \n",
      "SCORE:                                                                             \n",
      "0.6193390452876377                                                                 \n",
      "SCORE:                                                                             \n",
      "0.6204651162790698                                                                 \n",
      "SCORE:                                                                             \n",
      "0.664235006119951                                                                  \n",
      "SCORE:                                                                             \n",
      "0.6629620563035495                                                                 \n",
      "SCORE:                                                                             \n",
      "0.6630599755201958                                                                 \n",
      "SCORE:                                                                             \n",
      "0.6185067319461445                                                                 \n",
      "SCORE:                                                                             \n",
      "0.6173317013463893                                                                 \n",
      "SCORE:                                                                             \n",
      "0.6186536107711138                                                                 \n",
      "SCORE:                                                                             \n"
     ]
    },
    {
     "name": "stdout",
     "output_type": "stream",
     "text": [
      "0.6174785801713586                                                                 \n",
      "SCORE:                                                                             \n",
      "0.6184088127294982                                                                 \n",
      "SCORE:                                                                             \n",
      "0.6176744186046511                                                                 \n",
      "100%|██████████| 100/100 [09:46<00:00,  5.87s/trial, best loss: -0.6659485924112607]\n"
     ]
    }
   ],
   "source": [
    "trials = Trials()\n",
    "\n",
    "best_hyperparams = fmin(fn = objective,\n",
    "                        space = space,\n",
    "                        algo = tpe.suggest,\n",
    "                        max_evals = 100,\n",
    "                        trials = trials)\n"
   ]
  },
  {
   "cell_type": "code",
   "execution_count": 9,
   "id": "9d4f0a51",
   "metadata": {},
   "outputs": [
    {
     "name": "stdout",
     "output_type": "stream",
     "text": [
      "The best hyperparameters are :  \n",
      "\n",
      "{'colsample_bytree': 0.9994294601158392, 'gamma': 1.1903767743465337, 'max_depth': 4.0, 'min_child_weight': 4.0, 'reg_alpha': 77.0, 'reg_lambda': 0.3865880267152301}\n"
     ]
    }
   ],
   "source": [
    "print(\"The best hyperparameters are : \",\"\\n\")\n",
    "print(best_hyperparams)"
   ]
  },
  {
   "cell_type": "markdown",
   "id": "4ad7e4f5",
   "metadata": {},
   "source": [
    "### Adjusting the model"
   ]
  },
  {
   "cell_type": "markdown",
   "id": "575a19ea",
   "metadata": {},
   "source": [
    "- Once with the best hyperparameteres found, we fit a model with them with the **XGBClassifer**"
   ]
  },
  {
   "cell_type": "code",
   "execution_count": 10,
   "id": "017caf44",
   "metadata": {},
   "outputs": [
    {
     "name": "stdout",
     "output_type": "stream",
     "text": [
      "[14:23:18] WARNING: /opt/concourse/worker/volumes/live/7a2b9f41-3287-451b-6691-43e9a6c0910f/volume/xgboost-split_1619728204606/work/src/learner.cc:1061: Starting in XGBoost 1.3.0, the default evaluation metric used with the objective 'binary:logistic' was changed from 'error' to 'logloss'. Explicitly set eval_metric if you'd like to restore the old behavior.\n"
     ]
    },
    {
     "data": {
      "text/plain": [
       "XGBClassifier(base_score=0.5, booster='gbtree', colsample_bylevel=1,\n",
       "              colsample_bynode=1, colsample_bytree=0.9994294601158392,\n",
       "              gamma=1.1903767743465337, gpu_id=-1, importance_type='gain',\n",
       "              interaction_constraints='', learning_rate=0.300000012,\n",
       "              max_delta_step=0, max_depth=4, min_child_weight=4.0, missing=nan,\n",
       "              monotone_constraints='()', n_estimators=100, n_jobs=4,\n",
       "              num_parallel_tree=1, objective='binary:logistic', random_state=0,\n",
       "              reg_alpha=0, reg_lambda=1, scale_pos_weight=1, subsample=1,\n",
       "              tree_method='exact', use_label_encoder=True,\n",
       "              validate_parameters=1, verbosity=None)"
      ]
     },
     "execution_count": 10,
     "metadata": {},
     "output_type": "execute_result"
    }
   ],
   "source": [
    "# Fitting XGBoost to the Training set\n",
    "from xgboost import XGBClassifier\n",
    "classifier = XGBClassifier(max_depth = int(best_hyperparams['max_depth']),\n",
    "                            gamma = best_hyperparams['gamma'],\n",
    "                            min_child_weight = best_hyperparams['min_child_weight'],\n",
    "                            colsample_bytree = best_hyperparams['colsample_bytree']\n",
    "                            )\n",
    "\n",
    "classifier.fit(X_train, y_train)"
   ]
  },
  {
   "cell_type": "code",
   "execution_count": 11,
   "id": "01577ba2",
   "metadata": {},
   "outputs": [
    {
     "name": "stderr",
     "output_type": "stream",
     "text": [
      "/Users/jalfredomb/opt/miniconda3/lib/python3.8/site-packages/xgboost/sklearn.py:888: UserWarning: The use of label encoder in XGBClassifier is deprecated and will be removed in a future release. To remove this warning, do the following: 1) Pass option use_label_encoder=False when constructing XGBClassifier object; and 2) Encode your labels (y) as integers starting with 0, i.e. 0, 1, 2, ..., [num_class - 1].\n",
      "  warnings.warn(label_encoder_deprecation_msg, UserWarning)\n"
     ]
    },
    {
     "name": "stdout",
     "output_type": "stream",
     "text": [
      "[14:24:00] WARNING: /opt/concourse/worker/volumes/live/7a2b9f41-3287-451b-6691-43e9a6c0910f/volume/xgboost-split_1619728204606/work/src/learner.cc:1061: Starting in XGBoost 1.3.0, the default evaluation metric used with the objective 'binary:logistic' was changed from 'error' to 'logloss'. Explicitly set eval_metric if you'd like to restore the old behavior.\n",
      "[14:24:42] WARNING: /opt/concourse/worker/volumes/live/7a2b9f41-3287-451b-6691-43e9a6c0910f/volume/xgboost-split_1619728204606/work/src/learner.cc:1061: Starting in XGBoost 1.3.0, the default evaluation metric used with the objective 'binary:logistic' was changed from 'error' to 'logloss'. Explicitly set eval_metric if you'd like to restore the old behavior.\n",
      "[14:25:21] WARNING: /opt/concourse/worker/volumes/live/7a2b9f41-3287-451b-6691-43e9a6c0910f/volume/xgboost-split_1619728204606/work/src/learner.cc:1061: Starting in XGBoost 1.3.0, the default evaluation metric used with the objective 'binary:logistic' was changed from 'error' to 'logloss'. Explicitly set eval_metric if you'd like to restore the old behavior.\n",
      "[14:25:56] WARNING: /opt/concourse/worker/volumes/live/7a2b9f41-3287-451b-6691-43e9a6c0910f/volume/xgboost-split_1619728204606/work/src/learner.cc:1061: Starting in XGBoost 1.3.0, the default evaluation metric used with the objective 'binary:logistic' was changed from 'error' to 'logloss'. Explicitly set eval_metric if you'd like to restore the old behavior.\n",
      "[14:26:28] WARNING: /opt/concourse/worker/volumes/live/7a2b9f41-3287-451b-6691-43e9a6c0910f/volume/xgboost-split_1619728204606/work/src/learner.cc:1061: Starting in XGBoost 1.3.0, the default evaluation metric used with the objective 'binary:logistic' was changed from 'error' to 'logloss'. Explicitly set eval_metric if you'd like to restore the old behavior.\n",
      "[14:27:01] WARNING: /opt/concourse/worker/volumes/live/7a2b9f41-3287-451b-6691-43e9a6c0910f/volume/xgboost-split_1619728204606/work/src/learner.cc:1061: Starting in XGBoost 1.3.0, the default evaluation metric used with the objective 'binary:logistic' was changed from 'error' to 'logloss'. Explicitly set eval_metric if you'd like to restore the old behavior.\n",
      "[14:27:44] WARNING: /opt/concourse/worker/volumes/live/7a2b9f41-3287-451b-6691-43e9a6c0910f/volume/xgboost-split_1619728204606/work/src/learner.cc:1061: Starting in XGBoost 1.3.0, the default evaluation metric used with the objective 'binary:logistic' was changed from 'error' to 'logloss'. Explicitly set eval_metric if you'd like to restore the old behavior.\n",
      "[14:28:17] WARNING: /opt/concourse/worker/volumes/live/7a2b9f41-3287-451b-6691-43e9a6c0910f/volume/xgboost-split_1619728204606/work/src/learner.cc:1061: Starting in XGBoost 1.3.0, the default evaluation metric used with the objective 'binary:logistic' was changed from 'error' to 'logloss'. Explicitly set eval_metric if you'd like to restore the old behavior.\n",
      "[14:28:54] WARNING: /opt/concourse/worker/volumes/live/7a2b9f41-3287-451b-6691-43e9a6c0910f/volume/xgboost-split_1619728204606/work/src/learner.cc:1061: Starting in XGBoost 1.3.0, the default evaluation metric used with the objective 'binary:logistic' was changed from 'error' to 'logloss'. Explicitly set eval_metric if you'd like to restore the old behavior.\n",
      "[14:29:27] WARNING: /opt/concourse/worker/volumes/live/7a2b9f41-3287-451b-6691-43e9a6c0910f/volume/xgboost-split_1619728204606/work/src/learner.cc:1061: Starting in XGBoost 1.3.0, the default evaluation metric used with the objective 'binary:logistic' was changed from 'error' to 'logloss'. Explicitly set eval_metric if you'd like to restore the old behavior.\n"
     ]
    }
   ],
   "source": [
    "from sklearn.model_selection import cross_val_score\n",
    "accuracies = cross_val_score(estimator = classifier, X = X_train, y = y_train, cv = 10)\n",
    "CrossValMean = accuracies.mean()"
   ]
  },
  {
   "cell_type": "code",
   "execution_count": 13,
   "id": "2f7e53eb",
   "metadata": {
    "scrolled": true
   },
   "outputs": [
    {
     "name": "stdout",
     "output_type": "stream",
     "text": [
      "Applying k-Fold Cross Validation (Mean):  0.6654352511824092\n"
     ]
    }
   ],
   "source": [
    "print(\"Applying k-Fold Cross Validation (Mean): \", CrossValMean)"
   ]
  },
  {
   "cell_type": "code",
   "execution_count": 14,
   "id": "be0b9685",
   "metadata": {},
   "outputs": [
    {
     "name": "stdout",
     "output_type": "stream",
     "text": [
      "[0]\tvalidation_0-logloss:0.65797\tvalidation_1-logloss:0.65836\n",
      "[100]\tvalidation_0-logloss:0.60101\tvalidation_1-logloss:0.61055\n",
      "[151]\tvalidation_0-logloss:0.60101\tvalidation_1-logloss:0.61055\n"
     ]
    },
    {
     "data": {
      "text/plain": [
       "XGBClassifier(base_score=0.5, booster='gbtree', colsample_bylevel=1,\n",
       "              colsample_bynode=1, colsample_bytree=0.9994294601158392,\n",
       "              gamma=1.1903767743465337, gpu_id=-1, importance_type='gain',\n",
       "              interaction_constraints='', learning_rate=0.300000012,\n",
       "              max_delta_step=0, max_depth=4, min_child_weight=4.0, missing=nan,\n",
       "              monotone_constraints='()', n_estimators=4000, n_jobs=4,\n",
       "              num_parallel_tree=1, objective='binary:logistic', random_state=0,\n",
       "              reg_alpha=77.0, reg_lambda=0.3865880267152301, scale_pos_weight=1,\n",
       "              subsample=1, tree_method='exact', use_label_encoder=True,\n",
       "              validate_parameters=1, verbosity=None)"
      ]
     },
     "execution_count": 14,
     "metadata": {},
     "output_type": "execute_result"
    }
   ],
   "source": [
    "best_hyperparams['max_depth']=int(best_hyperparams['max_depth'])\n",
    "best_hyperparams['n_estimators'] = 4000\n",
    "xgb = XGBClassifier(**best_hyperparams)\n",
    "xgb.fit(X_train, y_train, eval_metric=['logloss'],verbose=100, early_stopping_rounds=100,\n",
    "        eval_set=[(X_train, y_train), (X_test, y_test)])"
   ]
  },
  {
   "cell_type": "code",
   "execution_count": 15,
   "id": "a83ad99e",
   "metadata": {},
   "outputs": [
    {
     "name": "stdout",
     "output_type": "stream",
     "text": [
      ">> The Accuracy on test sample is 0.6690330477356181\n",
      "\n",
      ">> The Area under the ROC Curve on test sample is 0.6130558538417983\n",
      "\n",
      ">>>>>>>>> Therefore the gini on test sample is 0.22611170768359656\n",
      "\n",
      ">> The Logloss on test sample is 11.431384561344341\n"
     ]
    }
   ],
   "source": [
    "pred_val = xgb.predict(X_test)\n",
    "\n",
    "accuracy_test = accuracy_score(y_test, pred_val)\n",
    "auc_test = roc_auc_score(y_test, pred_val)\n",
    "logloss_test = log_loss(y_test, pred_val)\n",
    "\n",
    "print('>> The Accuracy on test sample is ' + str(accuracy_test))\n",
    "print('')\n",
    "print('>> The Area under the ROC Curve on test sample is ' + str(auc_test))\n",
    "print('')\n",
    "print('>'*6 +'>>> Therefore the gini on test sample is ' + str(2*auc_test-1))\n",
    "print('')\n",
    "print('>> The Logloss on test sample is ' + str(logloss_test))"
   ]
  },
  {
   "cell_type": "markdown",
   "id": "6e5eb97c",
   "metadata": {},
   "source": [
    "- Saving this version:"
   ]
  },
  {
   "cell_type": "code",
   "execution_count": 16,
   "id": "1ede2b6a",
   "metadata": {},
   "outputs": [],
   "source": [
    "import pickle\n",
    "filehandler = open('data/xgb_movies_model_v02.pkl',\"wb\")\n",
    "pickle.dump(xgb,filehandler)\n",
    "filehandler.close()"
   ]
  },
  {
   "cell_type": "markdown",
   "id": "07a9d709",
   "metadata": {},
   "source": [
    "- The first thing to say is that evidentely the model is not a strong one, the perfomance is not that good actualy. \n",
    "\n",
    "- This could mean that the dataset has to much noise and we could use some extra-cleaning work and maybe remove some features. On the other hand, the minum frequency of tag's apperence parameter could be being to much demanding causing the lost of registers that would be helpful to the model's traing\n",
    "\n",
    "- Nevertheless, lets check out what this model learned and which variables are being more relevant"
   ]
  },
  {
   "cell_type": "markdown",
   "id": "36f6f11d",
   "metadata": {},
   "source": [
    "## Feature Importance"
   ]
  },
  {
   "cell_type": "code",
   "execution_count": 17,
   "id": "295a3ec4",
   "metadata": {},
   "outputs": [],
   "source": [
    "import shap"
   ]
  },
  {
   "cell_type": "code",
   "execution_count": 18,
   "id": "835a7ede",
   "metadata": {},
   "outputs": [],
   "source": [
    "explainer = shap.TreeExplainer(xgb)\n",
    "shap_values = explainer.shap_values(X_test)"
   ]
  },
  {
   "cell_type": "code",
   "execution_count": 19,
   "id": "61fb4b6a",
   "metadata": {
    "scrolled": true
   },
   "outputs": [
    {
     "data": {
      "image/png": "[encoded data removed]",
      "text/plain": [
       "<Figure size 576x684 with 2 Axes>"
      ]
     },
     "metadata": {
      "needs_background": "light"
     },
     "output_type": "display_data"
    }
   ],
   "source": [
    "shap.summary_plot(shap_values, X_test)"
   ]
  },
  {
   "cell_type": "markdown",
   "id": "4cf36bf9",
   "metadata": {},
   "source": [
    "### Feature interpretability"
   ]
  },
  {
   "cell_type": "markdown",
   "id": "763840fd",
   "metadata": {},
   "source": [
    "Lets go with the most important ones:"
   ]
  },
  {
   "cell_type": "markdown",
   "id": "1e809625",
   "metadata": {},
   "source": [
    "#### 1. Movie's cumulative averange rating until last (previus) user's review\n",
    "> rating_avg_acum_x_movie_prev\n",
    "\n",
    "- Firs of all, we can see that the mayority of the observations for this variable are on the positive side, in order words, the highest density is on the high ratings as we can see from the red plumpy side of the chart.\n",
    "\n",
    "- This is the most relevant variable and it make sense, since, many times, when we are going to see a movie on streaming on even in the movie cinemas, the current (on that moment before we see it) rating, opinions or even reviews of it plays a rol in our heads and it even biass us and, therefore, our final opinion of it, ussualy on the same direction. . Even for some people that consider itself like they are not like everyone else and asure that they not get contagious with the else's perspective, even that previos external-opinion could influence his/her final rating of the movie from a indirectal kind of way, beacause the predisposicion in this case would be to do the oppositve of what is said, so when it is a bad movie, according with the general saying, he or she could take that into an unconscious consideration and give a final high rating.\n",
    "\n",
    "- The relation of this variable with the movies' approval is directly proportional and we know this because the red values are with the positive shap values and the blue ones with the negative shap values and it means that when the previus cumulative mean of the movie rating (just before the new person sees it) is high, the final rating of that person it is likely to go up also and, when the previus cumulative rating is low, the more sure thing to be is that the final new person's rating is going to be down too.\n",
    "\n",
    "- In this case, the variable plays a stronger influence when it takes low values than when it takes the high ones. We can see this since how the bar extends to much to the left until it gets blue and that does not happen withthe red side of the bar, therefore the positive opinion is not that influencial. What this is telling us is that it is a lot more sure that the new person is going to rate the movie with a disapproving number (low) if that movie has an previuos bad rating and it is not that sure that he/she rates it with a high rate if the movie cames pre-approved. In other words, if the people says that the movie is bad, the new person will (most likely) agree to it and if the world says that the movie is very good, the person is not going to desagree without seeing it before but he/she is not going to assure that before he/she gets his/her own opinion.\n",
    "\n",
    "\n",
    "#### 2. The relevance of the tag 'great' on the movie (& 'atmospheric')\n",
    "> great_rlvnc\n",
    "- The second-most important variable.\n",
    "\n",
    "- All of this also happens for the variable relevance of the tag 'atmospheric' on the movie\n",
    "   \n",
    "         > atmospheric_rlvnc\n",
    "           \n",
    "- Most dense on the low values, but very influencial on the high ones and since it is a variable with a directly proportional relationship, this mean that when a movie to much associate with the tag 'great', the person most likely say that about the movie and approve it too.\n",
    "\n",
    "           \n",
    "- In both cases when the relevance of this tag increases, it also increases (and very much) the probability that the user approve that movie. Which it does not mean that, for the low values, the person will not approve the movie. For those cases, the variable does not hace to much power.\n",
    "\n",
    "\n",
    "\n",
    "\n",
    "#### 3. If the movie's genre is Drama\n",
    "> genre_Drama\n",
    "- This variable impresses me. And it is so because it seems to be very important for both values that it takes, those being: *It is a drama movie* & *It is not a drama movie*. And the way this variables does that is, since it has a directly relationship with the approval criteria,  when the movie is not a drama, the variable plays a important rol to indentify the ones that do not approve the movie, but it is also very usefull on the other side, it being, when the movie is a drama, this variable helps with a non insignificance importance to identify the users that would give a high rating to the movie. This becomes to the variable into a great compass for the north and for the south (ok, this is not technicaly right but you sure get my point :P )\n",
    "\n",
    "\n",
    "#### 4. The relevance of the tag 'bad' on the movie\n",
    "\n",
    "- This variable is very important, because from the ones of the top, it is the only one that has a indirectly relationship with the objective variable and we can notice this since the high values of this one, i.e. the 1's, are inline with the negatives shap values and the zero for this variable goes with the possitives shap values, meaning that, when this variable is activated `bad_rlvnc==1` the most likely thing to be is that the next rating is going to be a low one and this is confirmed with the large of the red side of the bar, which is not that short as the blue part of the same one . What this is telling us is that if the movie does have this tag associate as relevant, we could be pretty sure that he next rating is going to be low. This variable does not have that same power on the other side, meaning that even though the variable suggest that if it has not the 'bad' tag relevante, the movie is going to be a well ranked one, it cannot be taken as a sure thing, it could be but not as that confident.\n"
   ]
  },
  {
   "cell_type": "markdown",
   "id": "fd04938f",
   "metadata": {},
   "source": [
    "#### An eye on a particular case\n",
    "\n",
    "Lets see what happen with the importance of our predictors over a real case from the test dataset"
   ]
  },
  {
   "cell_type": "code",
   "execution_count": 25,
   "id": "325d1ee3",
   "metadata": {},
   "outputs": [
    {
     "data": {
      "text/plain": [
       "array([[0.18263453, 0.81736547]], dtype=float32)"
      ]
     },
     "execution_count": 25,
     "metadata": {},
     "output_type": "execute_result"
    }
   ],
   "source": [
    "row_to_show = 5 #len(y_test) -1\n",
    "data_for_prediction = X_test.iloc[row_to_show] \n",
    "data_for_prediction_array = data_for_prediction.values.reshape(1, -1)\n",
    "\n",
    "\n",
    "xgb.predict_proba(data_for_prediction_array)"
   ]
  },
  {
   "cell_type": "markdown",
   "id": "6e42ece6",
   "metadata": {},
   "source": [
    "- In this case, base on the fact that the probability is higher than 50%, the model is predicting a high rating for this movie (`high rate estimated==1`)"
   ]
  },
  {
   "cell_type": "code",
   "execution_count": 35,
   "id": "b9cdaa49",
   "metadata": {},
   "outputs": [
    {
     "name": "stderr",
     "output_type": "stream",
     "text": [
      "Using 12820 background data samples could cause slower run times. Consider using shap.sample(data, K) or shap.kmeans(data, K) to summarize the background as K samples.\n"
     ]
    },
    {
     "data": {
      "text/html": [
       "\n",
       "<div id='i1U2B2LUGDRTALWM4JJ1I'>\n",
       "<div style='color: #900; text-align: center;'>\n",
       "  <b>Visualization omitted, Javascript library not loaded!</b><br>\n",
       "  Have you run `initjs()` in this notebook? If this notebook was from another\n",
       "  user you must also trust this notebook (File -> Trust notebook). If you are viewing\n",
       "  this notebook on github the Javascript has been stripped for security. If you are using\n",
       "  JupyterLab this error is because a JupyterLab extension has not yet been written.\n",
       "</div></div>\n",
       " <script>\n",
       "   if (window.SHAP) SHAP.ReactDom.render(\n",
       "    SHAP.React.createElement(SHAP.AdditiveForceVisualizer, {\"outNames\": [\"f(x)\"], \"baseValue\": 0.6520833479086527, \"outValue\": 0.8173654675483704, \"link\": \"identity\", \"featureNames\": [\"genre_(no genres listed)\", \"genre_Action\", \"genre_Adventure\", \"genre_Animation\", \"genre_Children\", \"genre_Comedy\", \"genre_Crime\", \"genre_Documentary\", \"genre_Drama\", \"genre_Fantasy\", \"genre_Film-Noir\", \"genre_Horror\", \"genre_IMAX\", \"genre_Musical\", \"genre_Mystery\", \"genre_Romance\", \"genre_Sci-Fi\", \"genre_Thriller\", \"genre_War\", \"genre_Western\", \"action_rlvnc\", \"atmospheric_rlvnc\", \"bad_rlvnc\", \"based_rlvnc\", \"best_rlvnc\", \"black_rlvnc\", \"book_rlvnc\", \"classic_rlvnc\", \"comedy_rlvnc\", \"dark_rlvnc\", \"ending_rlvnc\", \"fantasy_rlvnc\", \"fi_rlvnc\", \"film_rlvnc\", \"funny_rlvnc\", \"good_rlvnc\", \"great_rlvnc\", \"movie_rlvnc\", \"nudity_rlvnc\", \"oscar_rlvnc\", \"plot_rlvnc\", \"quirky_rlvnc\", \"romance_rlvnc\", \"sci_rlvnc\", \"story_rlvnc\", \"surreal_rlvnc\", \"time_rlvnc\", \"true_rlvnc\", \"twist_rlvnc\", \"war_rlvnc\", \"rating_avg_acum_x_movie_prev\", \"action_avg_rtng_acum_prev\", \"atmospheric_avg_rtng_acum_prev\", \"bad_avg_rtng_acum_prev\", \"based_avg_rtng_acum_prev\", \"best_avg_rtng_acum_prev\", \"black_avg_rtng_acum_prev\", \"book_avg_rtng_acum_prev\", \"classic_avg_rtng_acum_prev\", \"comedy_avg_rtng_acum_prev\", \"dark_avg_rtng_acum_prev\", \"dvd_avg_rtng_acum_prev\", \"ending_avg_rtng_acum_prev\", \"fantasy_avg_rtng_acum_prev\", \"fi_avg_rtng_acum_prev\", \"film_avg_rtng_acum_prev\", \"funny_avg_rtng_acum_prev\", \"good_avg_rtng_acum_prev\", \"great_avg_rtng_acum_prev\", \"movie_avg_rtng_acum_prev\", \"nudity_avg_rtng_acum_prev\", \"oscar_avg_rtng_acum_prev\", \"plot_avg_rtng_acum_prev\", \"quirky_avg_rtng_acum_prev\", \"romance_avg_rtng_acum_prev\", \"sci_avg_rtng_acum_prev\", \"story_avg_rtng_acum_prev\", \"surreal_avg_rtng_acum_prev\", \"time_avg_rtng_acum_prev\", \"true_avg_rtng_acum_prev\", \"twist_avg_rtng_acum_prev\", \"war_avg_rtng_acum_prev\", \"(no genres listed)_avg_rtng_acum_prev\", \"Adventure_avg_rtng_acum_prev\", \"Animation_avg_rtng_acum_prev\", \"Children_avg_rtng_acum_prev\", \"Crime_avg_rtng_acum_prev\", \"Documentary_avg_rtng_acum_prev\", \"Drama_avg_rtng_acum_prev\", \"Film-Noir_avg_rtng_acum_prev\", \"Horror_avg_rtng_acum_prev\", \"IMAX_avg_rtng_acum_prev\", \"Musical_avg_rtng_acum_prev\", \"Mystery_avg_rtng_acum_prev\", \"Sci-Fi_avg_rtng_acum_prev\", \"Thriller_avg_rtng_acum_prev\", \"Western_avg_rtng_acum_prev\", \"Action_avg_rtng_acum_prev\", \"Comedy_avg_rtng_acum_prev\", \"Fantasy_avg_rtng_acum_prev\", \"Romance_avg_rtng_acum_prev\", \"War_avg_rtng_acum_prev\"], \"features\": {\"1\": {\"effect\": 0.0004548119356848207, \"value\": 0.0}, \"8\": {\"effect\": 0.007017672438398789, \"value\": 1.0}, \"22\": {\"effect\": 0.003929338755570045, \"value\": 0.0}, \"28\": {\"effect\": 0.014439362718027031, \"value\": 0.8105176470588239}, \"29\": {\"effect\": 0.015514025923184065, \"value\": 0.7399999999999993}, \"30\": {\"effect\": 0.009963227632694568, \"value\": 0.43149999999999983}, \"34\": {\"effect\": 0.017123989276570356, \"value\": 0.7975}, \"35\": {\"effect\": 0.02233407799541128, \"value\": 0.8927499999999998}, \"41\": {\"effect\": 0.009234170101005953, \"value\": 0.8587500000000003}, \"42\": {\"effect\": 0.0005737813779902665, \"value\": 0.0}, \"50\": {\"effect\": 0.0596977860569389, \"value\": 4.195652173913044}, \"59\": {\"effect\": 0.0006772916741831711, \"value\": NaN}, \"66\": {\"effect\": 0.0013377667228612056, \"value\": NaN}, \"73\": {\"effect\": 0.0012873411282370573, \"value\": 5.0}, \"85\": {\"effect\": 0.0011777436109425832, \"value\": NaN}, \"89\": {\"effect\": 0.0005197322920175163, \"value\": NaN}}, \"plot_cmap\": \"RdBu\", \"labelMargin\": 20}),\n",
       "    document.getElementById('i1U2B2LUGDRTALWM4JJ1I')\n",
       "  );\n",
       "</script>"
      ],
      "text/plain": [
       "<shap.plots._force.AdditiveForceVisualizer at 0x7fcadfad1eb0>"
      ]
     },
     "execution_count": 35,
     "metadata": {},
     "output_type": "execute_result"
    }
   ],
   "source": [
    "k_explainer = shap.KernelExplainer(xgb.predict_proba, X_test)\n",
    "k_shap_values = k_explainer.shap_values(data_for_prediction)\n",
    "shap.force_plot(k_explainer.expected_value[1], k_shap_values[1], data_for_prediction)"
   ]
  },
  {
   "cell_type": "markdown",
   "id": "bfd2ec86",
   "metadata": {},
   "source": [
    "- In this case we are whatching the most influence variables *'playing'* for this particular case, in which the variables that are provinding more 'guide' in order to make a prediction are the ones that are 'pushing' the prediction to be higher, therefore the estimation in this case is that the user is going to approve the movie, in order words, rating it high\n",
    "\n",
    "- Lets check which is the real value for this case for the `high_rating` variable:"
   ]
  },
  {
   "cell_type": "code",
   "execution_count": 44,
   "id": "854b7c48",
   "metadata": {},
   "outputs": [
    {
     "data": {
      "text/plain": [
       "1"
      ]
     },
     "execution_count": 44,
     "metadata": {},
     "output_type": "execute_result"
    }
   ],
   "source": [
    "y_test.iloc[5]"
   ]
  },
  {
   "cell_type": "markdown",
   "id": "32c975de",
   "metadata": {},
   "source": [
    "**Our prediction is correct!!**\n",
    "\n",
    "- Now, just let see if our way to interpreter the feature importance, make sense for this case"
   ]
  },
  {
   "cell_type": "code",
   "execution_count": 72,
   "id": "d0feab42",
   "metadata": {},
   "outputs": [
    {
     "data": {
      "text/plain": [
       "rating_avg_acum_x_movie_prev    4.195652\n",
       "genre_Drama                     1.000000\n",
       "great_rlvnc                     0.000000\n",
       "bad_rlvnc                       0.000000\n",
       "Name: 20576, dtype: float64"
      ]
     },
     "execution_count": 72,
     "metadata": {},
     "output_type": "execute_result"
    }
   ],
   "source": [
    "X_test[['rating_avg_acum_x_movie_prev','genre_Drama','great_rlvnc','bad_rlvnc']].iloc[5,]"
   ]
  },
  {
   "cell_type": "markdown",
   "id": "a41c64ae",
   "metadata": {},
   "source": [
    "- Rookie mistake: forgot to put the id on the data set for training, but, since we did the random split with a seed, we can replicate the samples split with the same seed on the dataset complete to see what movie is it and comment about if the prediction makes or does not make sense"
   ]
  },
  {
   "cell_type": "code",
   "execution_count": 48,
   "id": "7bcde7c4",
   "metadata": {},
   "outputs": [],
   "source": [
    "BASE = \"tbl_usrmovie_t0\"\n",
    "tbl_usrmovie_t0 = pd.read_pickle(\"data/\" + BASE + \".pkl\")\n",
    "\n",
    "X_compleate = tbl_usrmovie_t0.drop('high_rating', axis=1)\n",
    "\n",
    "y_compleate = tbl_usrmovie_t0['high_rating']\n",
    "\n",
    "\n",
    "from sklearn.model_selection import train_test_split\n",
    "\n",
    "X_train_compleate, X_test_compleate, y_train_compleate, y_test_compleate = train_test_split(X_compleate, y_compleate, test_size = 0.3, random_state = 0)"
   ]
  },
  {
   "cell_type": "code",
   "execution_count": 69,
   "id": "ecf20a0a",
   "metadata": {},
   "outputs": [
    {
     "data": {
      "text/html": [
       "<div>\n",
       "<style scoped>\n",
       "    .dataframe tbody tr th:only-of-type {\n",
       "        vertical-align: middle;\n",
       "    }\n",
       "\n",
       "    .dataframe tbody tr th {\n",
       "        vertical-align: top;\n",
       "    }\n",
       "\n",
       "    .dataframe thead th {\n",
       "        text-align: right;\n",
       "    }\n",
       "</style>\n",
       "<table border=\"1\" class=\"dataframe\">\n",
       "  <thead>\n",
       "    <tr style=\"text-align: right;\">\n",
       "      <th></th>\n",
       "      <th>movieId</th>\n",
       "      <th>title</th>\n",
       "      <th>genres</th>\n",
       "      <th>rating_usr</th>\n",
       "      <th>rating_avg_acum_x_movie_prev</th>\n",
       "      <th>genre_Drama</th>\n",
       "      <th>great_rlvnc</th>\n",
       "      <th>bad_rlvnc</th>\n",
       "    </tr>\n",
       "  </thead>\n",
       "  <tbody>\n",
       "    <tr>\n",
       "      <th>5</th>\n",
       "      <td>46578</td>\n",
       "      <td>Little Miss Sunshine (2006)</td>\n",
       "      <td>Adventure|Comedy|Drama</td>\n",
       "      <td>4.0</td>\n",
       "      <td>4.195652</td>\n",
       "      <td>1</td>\n",
       "      <td>0.0</td>\n",
       "      <td>0.0</td>\n",
       "    </tr>\n",
       "  </tbody>\n",
       "</table>\n",
       "</div>"
      ],
      "text/plain": [
       "  movieId                        title                  genres  rating_usr  \\\n",
       "5   46578  Little Miss Sunshine (2006)  Adventure|Comedy|Drama         4.0   \n",
       "\n",
       "   rating_avg_acum_x_movie_prev  genre_Drama  great_rlvnc  bad_rlvnc  \n",
       "5                      4.195652            1          0.0        0.0  "
      ]
     },
     "execution_count": 69,
     "metadata": {},
     "output_type": "execute_result"
    }
   ],
   "source": [
    "movie = pd.read_csv('data/'+'movie'+'.csv',header=0, dtype = {\"title\" : \"str\",\"movieId\" : \"str\"})\n",
    "pd.merge(X_test_compleate.head(6),movie,on='movieId',how='left')[['movieId','title','genres','rating_usr','rating_avg_acum_x_movie_prev','genre_Drama','great_rlvnc','bad_rlvnc']].tail(1)"
   ]
  },
  {
   "cell_type": "markdown",
   "id": "7cfad354",
   "metadata": {},
   "source": [
    "- It has a previous rating cumulative averange *'high'* (makes sense with our model that estimated a high rating also) \n",
    "\n",
    "- It is a Drama movie (which makes a lot of sense with our hypothesis that the variable *'genre_Dama'* when it is activated, i.e. taking de value of 1, it helps very much to identify the high ratings )\n",
    "\n",
    "- It has not the *'great'* tag as relevant associate, which goes also with our final comment of that variable that says that, the no-pressence of that variable (`great_rlvnc==0`) does not asure that the movie would have a low rating\n",
    "\n",
    "- It does not have the *'bad'* tag as relevant associate, which also makes sense since even that it has a lot of importance when the variable is activated (`bad_rlvnc==1`) almost asuring that, in those cases, the movie is going to be ranked as bad, when the variable is not activated, like in this case, it could be that the movie is going to be ranked as high, without assuring it, but as in this case, being right about it also.\n",
    "\n",
    "\n",
    "- And last, IT IS CERTAINLY A GREAT MOVIE! I would have ranked it with the highest possible. Abigail Breslin and Alan Arkin rocked the world. \n",
    "\n",
    "PS. Sorry for the personal *'tweet'*, something a movie fan can not help it :) "
   ]
  },
  {
   "cell_type": "markdown",
   "id": "8bd4dc43",
   "metadata": {},
   "source": [
    "## Next steps\n",
    "\n",
    "The model *'works'* but has a low performance and there could be many things that may help to improve it. Some of those I suggest are:\n",
    "\n",
    "- Changing the minum number of times that a word appears on the tags, may help to have more variables that could help but also and more important, it would imply to have more registers from which the model can learn.\n",
    "\n",
    "- Either with it or without the 'new' words, the dataset could use some extra cleaning previuos to the tuning and traing part. I would have implement some entropy and correlations analysis in order to identify some of the features that are load with trash and that, far to help, harm the training of the model because it could get distracted with all that junk variables\n",
    "\n",
    "- For this version of the model, in order to deliver on time the priority was take the most advantage of the data already given, but for the next version of this model a good idea could be to look for more data sources such as the external ones that suggested in the challenge.\n",
    "\n",
    "- I would wanted also train other models that compite with different hyperparameters and also different ML techniques in order to see if some of those acomplish some better understanding of the user's prefferences in movie taste\n"
   ]
  },
  {
   "cell_type": "markdown",
   "id": "89475cec",
   "metadata": {},
   "source": []
  }
 ],
 "metadata": {
  "kernelspec": {
   "display_name": "Python 3",
   "language": "python",
   "name": "python3"
  },
  "language_info": {
   "codemirror_mode": {
    "name": "ipython",
    "version": 3
   },
   "file_extension": ".py",
   "mimetype": "text/x-python",
   "name": "python",
   "nbconvert_exporter": "python",
   "pygments_lexer": "ipython3",
   "version": "3.8.5"
  }
 },
 "nbformat": 4,
 "nbformat_minor": 5
}
